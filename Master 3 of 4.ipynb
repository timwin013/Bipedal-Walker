{
 "cells": [
  {
   "cell_type": "markdown",
   "id": "ca992d43",
   "metadata": {},
   "source": [
    "# Imports"
   ]
  },
  {
   "cell_type": "code",
   "execution_count": 1,
   "id": "33edb923",
   "metadata": {},
   "outputs": [],
   "source": [
    "import numpy as np\n",
    "import gym\n",
    "import random\n",
    "import copy\n",
    "from collections import deque\n",
    "\n",
    "import torch\n",
    "import torch.nn as nn\n",
    "import torch.nn.functional as F\n",
    "import torch.optim as optim\n",
    "\n",
    "from matplotlib import pyplot as plt"
   ]
  },
  {
   "cell_type": "markdown",
   "id": "633b2f0c",
   "metadata": {},
   "source": [
    "# Actor critic methods"
   ]
  },
  {
   "cell_type": "code",
   "execution_count": 2,
   "id": "97108ce1",
   "metadata": {},
   "outputs": [],
   "source": [
    "class Actor(nn.Module):\n",
    "    def __init__(self, scaling, state_size, hidden_size, action_size):\n",
    "        super(Actor, self).__init__()\n",
    "        self.fc1 = nn.Linear(state_size, hidden_size)\n",
    "        self.fc2 = nn.Linear(hidden_size, hidden_size)\n",
    "        self.fc3 = nn.Linear(hidden_size, action_size)\n",
    "        \n",
    "    def forward(self, state):\n",
    "        x = F.relu(self.fc1(state))\n",
    "        x = F.relu(self.fc2(x))\n",
    "        return torch.tanh(self.fc3(x)) * scaling"
   ]
  },
  {
   "cell_type": "code",
   "execution_count": 3,
   "id": "07c2bac4",
   "metadata": {},
   "outputs": [],
   "source": [
    "class Critic(nn.Module):\n",
    "    def __init__(self, state_size, hidden_size, action_size):\n",
    "        super(Critic, self).__init__()\n",
    "        self.fc1 = nn.Linear(state_size + action_size, hidden_size)\n",
    "        self.fc2 = nn.Linear(hidden_size, hidden_size)\n",
    "        self.fc3 = nn.Linear(hidden_size, 1)\n",
    "    \n",
    "    def forward(self, state, action):\n",
    "        x = torch.cat([state, action], 1)\n",
    "        x = F.relu(self.fc1(x))\n",
    "        x = F.relu(self.fc2(x))\n",
    "        return self.fc3(x)"
   ]
  },
  {
   "cell_type": "markdown",
   "id": "388590c8",
   "metadata": {},
   "source": [
    "## TD3"
   ]
  },
  {
   "cell_type": "markdown",
   "id": "3a2cfeee",
   "metadata": {},
   "source": [
    "### Defining the agent"
   ]
  },
  {
   "cell_type": "code",
   "execution_count": 4,
   "id": "284a1997",
   "metadata": {},
   "outputs": [],
   "source": [
    "class TD3_Agent():\n",
    "    def __init__(self, scaling, render, buffer_size, batch_size, gamma, tau, sigma,\n",
    "                state_size, hidden_size, action_size, actor_lr, critic_lr):\n",
    "        \n",
    "        self.scaling = scaling\n",
    "        self.render = render\n",
    "        self.buffer_size = buffer_size\n",
    "        self.batch_size = batch_size\n",
    "        self.gamma = gamma\n",
    "        self.tau = tau\n",
    "        self.sigma = sigma\n",
    "\n",
    "        self.state_size = state_size\n",
    "        self.hidden_size = hidden_size\n",
    "        self.action_size = action_size\n",
    "        self.actor_lr = actor_lr\n",
    "        self.critic_lr = critic_lr\n",
    "        \n",
    "        # Create actor network, 2 critic networks, their target copies, and their optimisers\n",
    "        self.actor = Actor(scaling, state_size, hidden_size, action_size)\n",
    "        self.critic = Critic(state_size, hidden_size, action_size)\n",
    "        self.critic2 = Critic(state_size, hidden_size, action_size)\n",
    "        self.target_actor = copy.deepcopy(self.actor)\n",
    "        self.target_critic = copy.deepcopy(self.critic)\n",
    "        self.target_critic2 = copy.deepcopy(self.critic2)\n",
    "        self.actor_optimizer = torch.optim.Adam(self.actor.parameters(), lr = actor_lr)\n",
    "        self.critic_optimizer = torch.optim.Adam(self.critic.parameters(), lr = critic_lr)\n",
    "        self.critic_optimizer2 = torch.optim.Adam(self.critic2.parameters(), lr = critic_lr)\n",
    "        \n",
    "        self.state_memory = []\n",
    "        self.next_state_memory = []\n",
    "        self.action_memory = []\n",
    "        self.reward_memory = []\n",
    "        self.terminal_memory = []\n",
    "        self.memory_counter = 0\n",
    "        \n",
    "    def train(self):\n",
    "        state = env.reset()\n",
    "        ep_reward = 0\n",
    "        num_step = 0\n",
    "        terminal = False\n",
    "        \n",
    "        while not terminal:\n",
    "            \n",
    "            if self.render:\n",
    "                env.render()\n",
    "                \n",
    "            tensor_state = torch.from_numpy(state).float()            \n",
    "            action = self.actor(tensor_state)\n",
    "            action = torch.add(action, torch.from_numpy(np.random.normal(0, self.sigma, self.action_size)))\n",
    "            action = action.detach().numpy()\n",
    "            next_state, reward, terminal, _ = env.step(action)\n",
    "            ep_reward += reward\n",
    "\n",
    "            if self.memory_counter < self.buffer_size: \n",
    "                self.state_memory.append(state)\n",
    "                self.next_state_memory.append(next_state)\n",
    "                self.action_memory.append(action)\n",
    "                self.reward_memory.append(reward)\n",
    "                self.terminal_memory.append(1 - terminal)\n",
    "            else:     \n",
    "                index = self.memory_counter % self.buffer_size\n",
    "                self.state_memory[index] = state\n",
    "                self.next_state_memory[index] = next_state\n",
    "                self.action_memory[index] = action\n",
    "                self.reward_memory[index] = reward\n",
    "                self.terminal_memory[index] = 1 - terminal\n",
    "            self.memory_counter += 1    \n",
    "            \n",
    "            if self.memory_counter >= self.batch_size: \n",
    "                batch = random.sample(range(len(self.state_memory)), self.batch_size) \n",
    "                states = []\n",
    "                next_states = []\n",
    "                actions = []\n",
    "                rewards = []\n",
    "                terminals = []\n",
    "                \n",
    "                for item in batch:\n",
    "                    states.append(self.state_memory[item])\n",
    "                    next_states.append(self.next_state_memory[item])\n",
    "                    actions.append(self.action_memory[item])\n",
    "                    rewards.append(self.reward_memory[item]) \n",
    "                    terminals.append(self.terminal_memory[item])\n",
    "                \n",
    "                states = np.array(states)\n",
    "                next_states = np.array(next_states)\n",
    "                actions = np.array(actions)\n",
    "                states = torch.tensor(states)\n",
    "                next_states = torch.tensor(next_states)\n",
    "                actions = torch.tensor(actions)\n",
    "                states = states.to(torch.float32) \n",
    "                actions = actions.to(torch.float32) \n",
    "                next_states = next_states.to(torch.float32) \n",
    "                    \n",
    "                # Calculate policy noise then clip this noise\n",
    "                # Add this policy noise to the actions that are selected by the actor network when given the next state\n",
    "                target_actions = self.target_actor(next_states)\n",
    "                actions_copy = copy.deepcopy(actions)\n",
    "                noise = actions_copy.data.normal_(0, self.sigma * 2)\n",
    "                noise = noise.clamp(-self.sigma * 5, self.sigma * 5)      \n",
    "                target_actions = target_actions + noise\n",
    "                \n",
    "                # Calculate the actual next state Q values for each target critic network\n",
    "                # Choose the smaller of these two next state Q values\n",
    "                # Use this to calculate the value of actual current state Q values\n",
    "                a = self.target_critic(next_states, target_actions)\n",
    "                b = self.target_critic2(next_states, target_actions)\n",
    "                next_Qtargets = torch.min(a,b) \n",
    "                Qtargets = []\n",
    "                for i in range(self.batch_size):\n",
    "                    Qtargets.append(rewards[i] + self.gamma * next_Qtargets[i] * terminals[i])\n",
    "                Qtargets = torch.tensor(Qtargets)\n",
    "                Qtargets = Qtargets.view(self.batch_size, 1)\n",
    "                \n",
    "                # Perform gradient descent on the first critic network             \n",
    "                Qexpected = self.critic(states, actions)\n",
    "                critic_loss = nn.MSELoss()(Qexpected, Qtargets)\n",
    "                self.critic_optimizer.zero_grad()\n",
    "                critic_loss.backward()\n",
    "                self.critic_optimizer.step()\n",
    "                \n",
    "                # Perform gradient descent on the second critic network       \n",
    "                Qexpected2 = self.critic2(states, actions)\n",
    "                critic_loss2 = nn.MSELoss()(Qexpected2, Qtargets)\n",
    "                self.critic_optimizer2.zero_grad()\n",
    "                critic_loss2.backward()\n",
    "                self.critic_optimizer2.step()\n",
    "                \n",
    "                # Perform gradient ascent on the actor network every 2 steps\n",
    "                if num_step % 2 == 0:\n",
    "                    actions_predicted = self.actor(states)\n",
    "                    actor_loss = -self.critic(states, actions_predicted)\n",
    "                    actor_loss = torch.mean(actor_loss)\n",
    "                    self.actor_optimizer.zero_grad()\n",
    "                    actor_loss.backward()\n",
    "                    self.actor_optimizer.step()\n",
    "                \n",
    "                # Update all target networks\n",
    "                with torch.no_grad():\n",
    "                    for target_parameter, parameter in zip(self.target_critic.parameters(), self.critic.parameters()):\n",
    "                        target_parameter.copy_((target_parameter * (1 - self.tau)) + (parameter * self.tau))                    \n",
    "\n",
    "                with torch.no_grad():\n",
    "                    for target_parameter, parameter in zip(self.target_critic2.parameters(), self.critic2.parameters()):\n",
    "                        target_parameter.copy_((target_parameter * (1 - self.tau)) + (parameter * self.tau)) \n",
    "                \n",
    "                with torch.no_grad():\n",
    "                    for target_parameter, parameter in zip(self.target_actor.parameters(), self.actor.parameters()):\n",
    "                        target_parameter.copy_((target_parameter * (1 - self.tau)) + (parameter * self.tau))      \n",
    "                \n",
    "            state = next_state\n",
    "            num_step += 1\n",
    "            \n",
    "        if self.render:\n",
    "            env.close()\n",
    "            \n",
    "        return ep_reward\n",
    "    \n",
    "    def test(self):\n",
    "        \n",
    "        scores = []\n",
    "        \n",
    "        for i in range(100):\n",
    "            state = env.reset()\n",
    "            terminal = False\n",
    "            ep_reward = 0\n",
    "\n",
    "            while not terminal:\n",
    "                tensor_state = torch.from_numpy(state).float()\n",
    "                action = self.actor(tensor_state)\n",
    "                action = action.detach().numpy()\n",
    "                next_state, reward, terminal, _ = env.step(action)\n",
    "                ep_reward += reward \n",
    "                state = next_state\n",
    "                \n",
    "            scores.append(ep_reward)\n",
    "        \n",
    "        print('Mean score:', np.mean(scores))\n",
    "        x = [i for i in range(1, len(scores)+1)]\n",
    "        plt.plot(x, scores)\n",
    "        plt.ylabel('Score')\n",
    "        plt.xlabel('Episodes')\n",
    "        plt.show()\n",
    "\n",
    "    def visualise(self):\n",
    "        for i in range(10):\n",
    "            state = env.reset()\n",
    "            terminal = False\n",
    "            ep_reward = 0\n",
    "\n",
    "            while not terminal:\n",
    "                env.render()\n",
    "                tensor_state = torch.from_numpy(state).float()\n",
    "                action = self.actor(tensor_state)\n",
    "                action = action.detach().numpy()\n",
    "                next_state, reward, terminal, _ = env.step(action)\n",
    "                ep_reward += reward \n",
    "                state = next_state\n",
    "\n",
    "            print('Episode reward:', ep_reward)\n",
    "            env.close()"
   ]
  },
  {
   "cell_type": "markdown",
   "id": "dea40bb3",
   "metadata": {},
   "source": [
    "### BipedalWalker-v3"
   ]
  },
  {
   "cell_type": "code",
   "execution_count": 5,
   "id": "9e627635",
   "metadata": {},
   "outputs": [
    {
     "name": "stdout",
     "output_type": "stream",
     "text": [
      "*************************************************************\n",
      "Agent 1\n",
      "Episode: 100 Score: -110.447 \t Mean score over last 100 episodes: -107.410\n",
      "Episode: 200 Score: -89.333 \t Mean score over last 100 episodes: -94.266\n",
      "Episode: 300 Score: -91.820 \t Mean score over last 100 episodes: -106.959\n",
      "Episode: 400 Score: -114.438 \t Mean score over last 100 episodes: -85.677\n",
      "Episode: 500 Score: -68.846 \t Mean score over last 100 episodes: -75.447\n",
      "Episode: 600 Score: 119.878 \t Mean score over last 100 episodes: 15.889\n",
      "Episode: 700 Score: 253.343 \t Mean score over last 100 episodes: 192.544\n",
      "Episode: 800 Score: 262.838 \t Mean score over last 100 episodes: 228.503\n",
      "Episode: 900 Score: 271.146 \t Mean score over last 100 episodes: 266.990\n",
      "Episode: 1000 Score: 279.750 \t Mean score over last 100 episodes: 269.734\n",
      "Episode: 1100 Score: 276.433 \t Mean score over last 100 episodes: 276.367\n",
      "Episode: 1200 Score: 278.496 \t Mean score over last 100 episodes: 268.108\n",
      "Episode: 1300 Score: 280.214 \t Mean score over last 100 episodes: 267.311\n",
      "Episode: 1400 Score: 282.830 \t Mean score over last 100 episodes: 274.544\n",
      "Episode: 1500 Score: 86.941 \t Mean score over last 100 episodes: 281.026\n",
      "Episode: 1600 Score: 284.068 \t Mean score over last 100 episodes: 277.879\n",
      "Episode: 1700 Score: 288.174 \t Mean score over last 100 episodes: 284.949\n",
      "Episode: 1800 Score: -101.817 \t Mean score over last 100 episodes: 196.870\n",
      "Episode: 1900 Score: 290.613 \t Mean score over last 100 episodes: 266.285\n",
      "Episode: 2000 Score: 292.358 \t Mean score over last 100 episodes: 292.234\n",
      "Episode: 2100 Score: 295.125 \t Mean score over last 100 episodes: 287.382\n",
      "Episode: 2200 Score: 289.816 \t Mean score over last 100 episodes: 292.621\n",
      "Episode: 2300 Score: 291.156 \t Mean score over last 100 episodes: 287.223\n",
      "Episode: 2400 Score: 293.659 \t Mean score over last 100 episodes: 287.957\n",
      "Episode: 2500 Score: 292.570 \t Mean score over last 100 episodes: 294.179\n",
      "Episode: 2600 Score: 290.288 \t Mean score over last 100 episodes: 286.418\n",
      "Episode: 2700 Score: 293.234 \t Mean score over last 100 episodes: 290.560\n",
      "Episode: 2800 Score: 291.350 \t Mean score over last 100 episodes: 283.620\n",
      "Episode: 2900 Score: 284.212 \t Mean score over last 100 episodes: 286.000\n",
      "Episode: 3000 Score: 287.608 \t Mean score over last 100 episodes: 276.017\n",
      "*********************************\n",
      "Agent 1 complete \t Mean score of agent: 202.048\n",
      "BipedalWalker-v3 finished in 3000 episodes \t Mean score over last 100 episodes: 276.017\n",
      "*********************************\n",
      "Agent 1 scores during training\n"
     ]
    },
    {
     "data": {
      "image/png": "[encoded data removed]",
      "text/plain": [
       "<Figure size 432x288 with 1 Axes>"
      ]
     },
     "metadata": {
      "needs_background": "light"
     },
     "output_type": "display_data"
    },
    {
     "name": "stdout",
     "output_type": "stream",
     "text": [
      "Agent 1 mean score of last 100 episodes during training\n"
     ]
    },
    {
     "data": {
      "image/png": "[encoded data removed]",
      "text/plain": [
       "<Figure size 432x288 with 1 Axes>"
      ]
     },
     "metadata": {
      "needs_background": "light"
     },
     "output_type": "display_data"
    },
    {
     "name": "stdout",
     "output_type": "stream",
     "text": [
      "Agent 1 scores during testing\n",
      "Mean score: 288.388414526982\n"
     ]
    },
    {
     "data": {
      "image/png": "[encoded data removed]",
      "text/plain": [
       "<Figure size 432x288 with 1 Axes>"
      ]
     },
     "metadata": {
      "needs_background": "light"
     },
     "output_type": "display_data"
    }
   ],
   "source": [
    "environment = 'BipedalWalker-v3'\n",
    "env = gym.make(environment)\n",
    "\n",
    "if environment == 'Pendulum-v1':\n",
    "    scaling = 2\n",
    "    solved = -100\n",
    "elif environment =='BipedalWalker-v3' or 'BipedalWalkerHardcore-v3':\n",
    "    scaling = 1\n",
    "    solved = 300 \n",
    "\n",
    "previous = 100\n",
    "print_every = 100\n",
    "agents = 1\n",
    "\n",
    "for i in range(1, agents + 1): \n",
    "    print('*************************************************************')\n",
    "    print('Agent {}'.format(i))\n",
    "\n",
    "    walker_TD3 = TD3_Agent(scaling = scaling, render = False, buffer_size = 500000, batch_size = 64, gamma = 0.99, tau = 0.005, sigma = 0.1,\n",
    "                state_size = env.observation_space.shape[0], hidden_size = 64, action_size = env.action_space.shape[0], actor_lr = 0.0004, critic_lr = 0.0004)\n",
    "    agent_scores = [0]\n",
    "    agent_moving_means = [0]\n",
    "    episode = 1\n",
    "\n",
    "    while (agent_moving_means[-1] < solved or episode <= previous) and episode < 3001:\n",
    "\n",
    "        ep_reward = walker_TD3.train()\n",
    "\n",
    "        if episode == 1: \n",
    "            agent_scores[0] = ep_reward\n",
    "            agent_moving_means[0] = ep_reward\n",
    "        else:\n",
    "            agent_scores.append(ep_reward)\n",
    "            agent_moving_means.append(np.mean(agent_scores[-previous:])) \n",
    "\n",
    "        if episode % print_every == 0:\n",
    "            print('Episode: {} Score: {:.3f} \\t Mean score over last {} episodes: {:.3f}'.format(episode, ep_reward, previous, agent_moving_means[-1])) \n",
    "\n",
    "        episode += 1\n",
    "\n",
    "    episode -= 1\n",
    "    print('*********************************')\n",
    "    print('Agent {} complete \\t Mean score of agent: {:.3f}'.format(i, np.mean(agent_scores))) \n",
    "    print('{} finished in {} episodes \\t Mean score over last {} episodes: {:.3f}'.format(environment, episode, previous, agent_moving_means[-1]))\n",
    "    print('*********************************')\n",
    "\n",
    "    x = [i for i in range(1, len(agent_scores) + 1)]\n",
    "    print('Agent {} scores during training'.format(i))\n",
    "    plt.plot(x, agent_scores)\n",
    "    plt.ylabel('Score')\n",
    "    plt.xlabel('Episodes')              \n",
    "    plt.show()\n",
    "\n",
    "    x = [i for i in range(1, len(agent_moving_means) + 1)]\n",
    "    print('Agent {} mean score of last {} episodes during training'.format(i, previous))\n",
    "    plt.plot(x, agent_moving_means)\n",
    "    plt.ylabel('Mean score of last {} episodes'.format(previous))       \n",
    "    plt.xlabel('Episodes')\n",
    "    plt.show()\n",
    "    \n",
    "    print('Agent {} scores during testing'.format(i))\n",
    "    walker_TD3.test()"
   ]
  },
  {
   "cell_type": "code",
   "execution_count": 6,
   "id": "2e3beeaa",
   "metadata": {},
   "outputs": [
    {
     "name": "stderr",
     "output_type": "stream",
     "text": [
      "2022-05-05 16:48:55.169 python[1109:8020] Warning: Expected min height of view: (<NSPopoverTouchBarItemButton: 0x7ff357320f20>) to be less than or equal to 30 but got a height of 32.000000. This error will be logged once per view in violation.\n",
      "2022-05-05 16:48:55.170 python[1109:8020] Warning: Expected min height of view: (<NSButton: 0x7ff372739ca0>) to be less than or equal to 30 but got a height of 32.000000. This error will be logged once per view in violation.\n",
      "2022-05-05 16:48:55.172 python[1109:8020] Warning: Expected min height of view: (<NSPopoverTouchBarItemButton: 0x7ff366524ea0>) to be less than or equal to 30 but got a height of 32.000000. This error will be logged once per view in violation.\n",
      "2022-05-05 16:48:55.174 python[1109:8020] Warning: Expected min height of view: (<NSPopoverTouchBarItemButton: 0x7ff372726ae0>) to be less than or equal to 30 but got a height of 32.000000. This error will be logged once per view in violation.\n"
     ]
    },
    {
     "name": "stdout",
     "output_type": "stream",
     "text": [
      "Episode reward: 293.18009381252654\n"
     ]
    },
    {
     "name": "stderr",
     "output_type": "stream",
     "text": [
      "2022-05-05 16:49:01.709 python[1109:8020] Warning: Expected min height of view: (<NSPopoverTouchBarItemButton: 0x7ff35c089760>) to be less than or equal to 30 but got a height of 32.000000. This error will be logged once per view in violation.\n",
      "2022-05-05 16:49:01.712 python[1109:8020] Warning: Expected min height of view: (<NSButton: 0x7ff35c016ba0>) to be less than or equal to 30 but got a height of 32.000000. This error will be logged once per view in violation.\n",
      "2022-05-05 16:49:01.718 python[1109:8020] Warning: Expected min height of view: (<NSPopoverTouchBarItemButton: 0x7ff35c00cea0>) to be less than or equal to 30 but got a height of 32.000000. This error will be logged once per view in violation.\n",
      "2022-05-05 16:49:01.724 python[1109:8020] Warning: Expected min height of view: (<NSPopoverTouchBarItemButton: 0x7ff35c036b20>) to be less than or equal to 30 but got a height of 32.000000. This error will be logged once per view in violation.\n"
     ]
    },
    {
     "name": "stdout",
     "output_type": "stream",
     "text": [
      "Episode reward: 289.5185655902517\n"
     ]
    },
    {
     "name": "stderr",
     "output_type": "stream",
     "text": [
      "2022-05-05 16:49:08.633 python[1109:8020] Warning: Expected min height of view: (<NSPopoverTouchBarItemButton: 0x7ff35313b9c0>) to be less than or equal to 30 but got a height of 32.000000. This error will be logged once per view in violation.\n",
      "2022-05-05 16:49:08.637 python[1109:8020] Warning: Expected min height of view: (<NSButton: 0x7ff3573cd0e0>) to be less than or equal to 30 but got a height of 32.000000. This error will be logged once per view in violation.\n",
      "2022-05-05 16:49:08.645 python[1109:8020] Warning: Expected min height of view: (<NSPopoverTouchBarItemButton: 0x7ff35733d8e0>) to be less than or equal to 30 but got a height of 32.000000. This error will be logged once per view in violation.\n",
      "2022-05-05 16:49:08.651 python[1109:8020] Warning: Expected min height of view: (<NSPopoverTouchBarItemButton: 0x7ff3531604e0>) to be less than or equal to 30 but got a height of 32.000000. This error will be logged once per view in violation.\n"
     ]
    },
    {
     "name": "stdout",
     "output_type": "stream",
     "text": [
      "Episode reward: 288.91200917984776\n"
     ]
    },
    {
     "name": "stderr",
     "output_type": "stream",
     "text": [
      "2022-05-05 16:49:14.933 python[1109:8020] Warning: Expected min height of view: (<NSPopoverTouchBarItemButton: 0x7ff35b66b120>) to be less than or equal to 30 but got a height of 32.000000. This error will be logged once per view in violation.\n",
      "2022-05-05 16:49:14.933 python[1109:8020] Warning: Expected min height of view: (<NSButton: 0x7ff3727814e0>) to be less than or equal to 30 but got a height of 32.000000. This error will be logged once per view in violation.\n",
      "2022-05-05 16:49:14.937 python[1109:8020] Warning: Expected min height of view: (<NSPopoverTouchBarItemButton: 0x7ff372708c30>) to be less than or equal to 30 but got a height of 32.000000. This error will be logged once per view in violation.\n",
      "2022-05-05 16:49:14.944 python[1109:8020] Warning: Expected min height of view: (<NSPopoverTouchBarItemButton: 0x7ff3564e9450>) to be less than or equal to 30 but got a height of 32.000000. This error will be logged once per view in violation.\n"
     ]
    },
    {
     "name": "stdout",
     "output_type": "stream",
     "text": [
      "Episode reward: 289.45285019371664\n"
     ]
    },
    {
     "name": "stderr",
     "output_type": "stream",
     "text": [
      "2022-05-05 16:49:21.590 python[1109:8020] Warning: Expected min height of view: (<NSPopoverTouchBarItemButton: 0x7ff3581ebca0>) to be less than or equal to 30 but got a height of 32.000000. This error will be logged once per view in violation.\n",
      "2022-05-05 16:49:21.591 python[1109:8020] Warning: Expected min height of view: (<NSButton: 0x7ff3581a2260>) to be less than or equal to 30 but got a height of 32.000000. This error will be logged once per view in violation.\n",
      "2022-05-05 16:49:21.593 python[1109:8020] Warning: Expected min height of view: (<NSPopoverTouchBarItemButton: 0x7ff3581a1060>) to be less than or equal to 30 but got a height of 32.000000. This error will be logged once per view in violation.\n",
      "2022-05-05 16:49:21.595 python[1109:8020] Warning: Expected min height of view: (<NSPopoverTouchBarItemButton: 0x7ff35819e220>) to be less than or equal to 30 but got a height of 32.000000. This error will be logged once per view in violation.\n"
     ]
    },
    {
     "name": "stdout",
     "output_type": "stream",
     "text": [
      "Episode reward: 289.07290917625164\n"
     ]
    },
    {
     "name": "stderr",
     "output_type": "stream",
     "text": [
      "2022-05-05 16:49:27.973 python[1109:8020] Warning: Expected min height of view: (<NSPopoverTouchBarItemButton: 0x7ff35cb67160>) to be less than or equal to 30 but got a height of 32.000000. This error will be logged once per view in violation.\n",
      "2022-05-05 16:49:27.977 python[1109:8020] Warning: Expected min height of view: (<NSButton: 0x7ff3581a56e0>) to be less than or equal to 30 but got a height of 32.000000. This error will be logged once per view in violation.\n",
      "2022-05-05 16:49:27.984 python[1109:8020] Warning: Expected min height of view: (<NSPopoverTouchBarItemButton: 0x7ff358161be0>) to be less than or equal to 30 but got a height of 32.000000. This error will be logged once per view in violation.\n",
      "2022-05-05 16:49:27.990 python[1109:8020] Warning: Expected min height of view: (<NSPopoverTouchBarItemButton: 0x7ff35813b1a0>) to be less than or equal to 30 but got a height of 32.000000. This error will be logged once per view in violation.\n"
     ]
    },
    {
     "name": "stdout",
     "output_type": "stream",
     "text": [
      "Episode reward: 287.0350361518123\n"
     ]
    },
    {
     "name": "stderr",
     "output_type": "stream",
     "text": [
      "2022-05-05 16:49:34.536 python[1109:8020] Warning: Expected min height of view: (<NSPopoverTouchBarItemButton: 0x7ff35819e4d0>) to be less than or equal to 30 but got a height of 32.000000. This error will be logged once per view in violation.\n",
      "2022-05-05 16:49:34.539 python[1109:8020] Warning: Expected min height of view: (<NSButton: 0x7ff358188760>) to be less than or equal to 30 but got a height of 32.000000. This error will be logged once per view in violation.\n",
      "2022-05-05 16:49:34.547 python[1109:8020] Warning: Expected min height of view: (<NSPopoverTouchBarItemButton: 0x7ff358181820>) to be less than or equal to 30 but got a height of 32.000000. This error will be logged once per view in violation.\n",
      "2022-05-05 16:49:34.552 python[1109:8020] Warning: Expected min height of view: (<NSPopoverTouchBarItemButton: 0x7ff358148220>) to be less than or equal to 30 but got a height of 32.000000. This error will be logged once per view in violation.\n"
     ]
    },
    {
     "name": "stdout",
     "output_type": "stream",
     "text": [
      "Episode reward: 286.4980818300712\n"
     ]
    },
    {
     "name": "stderr",
     "output_type": "stream",
     "text": [
      "2022-05-05 16:49:40.879 python[1109:8020] Warning: Expected min height of view: (<NSPopoverTouchBarItemButton: 0x7ff35815bd60>) to be less than or equal to 30 but got a height of 32.000000. This error will be logged once per view in violation.\n",
      "2022-05-05 16:49:40.883 python[1109:8020] Warning: Expected min height of view: (<NSButton: 0x7ff358152860>) to be less than or equal to 30 but got a height of 32.000000. This error will be logged once per view in violation.\n",
      "2022-05-05 16:49:40.892 python[1109:8020] Warning: Expected min height of view: (<NSPopoverTouchBarItemButton: 0x7ff3581c5220>) to be less than or equal to 30 but got a height of 32.000000. This error will be logged once per view in violation.\n",
      "2022-05-05 16:49:40.898 python[1109:8020] Warning: Expected min height of view: (<NSPopoverTouchBarItemButton: 0x7ff3581c0de0>) to be less than or equal to 30 but got a height of 32.000000. This error will be logged once per view in violation.\n"
     ]
    },
    {
     "name": "stdout",
     "output_type": "stream",
     "text": [
      "Episode reward: 288.79157871969534\n"
     ]
    },
    {
     "name": "stderr",
     "output_type": "stream",
     "text": [
      "2022-05-05 16:49:47.863 python[1109:8020] Warning: Expected min height of view: (<NSPopoverTouchBarItemButton: 0x7ff35ad1e8e0>) to be less than or equal to 30 but got a height of 32.000000. This error will be logged once per view in violation.\n",
      "2022-05-05 16:49:47.865 python[1109:8020] Warning: Expected min height of view: (<NSButton: 0x7ff35ad7eca0>) to be less than or equal to 30 but got a height of 32.000000. This error will be logged once per view in violation.\n",
      "2022-05-05 16:49:47.871 python[1109:8020] Warning: Expected min height of view: (<NSPopoverTouchBarItemButton: 0x7ff35ad7b660>) to be less than or equal to 30 but got a height of 32.000000. This error will be logged once per view in violation.\n",
      "2022-05-05 16:49:47.874 python[1109:8020] Warning: Expected min height of view: (<NSPopoverTouchBarItemButton: 0x7ff35addb9e0>) to be less than or equal to 30 but got a height of 32.000000. This error will be logged once per view in violation.\n"
     ]
    },
    {
     "name": "stdout",
     "output_type": "stream",
     "text": [
      "Episode reward: 290.0827999945851\n"
     ]
    },
    {
     "name": "stderr",
     "output_type": "stream",
     "text": [
      "2022-05-05 16:49:55.220 python[1109:8020] Warning: Expected min height of view: (<NSPopoverTouchBarItemButton: 0x7ff37194eea0>) to be less than or equal to 30 but got a height of 32.000000. This error will be logged once per view in violation.\n",
      "2022-05-05 16:49:55.221 python[1109:8020] Warning: Expected min height of view: (<NSButton: 0x7ff35c053240>) to be less than or equal to 30 but got a height of 32.000000. This error will be logged once per view in violation.\n",
      "2022-05-05 16:49:55.224 python[1109:8020] Warning: Expected min height of view: (<NSPopoverTouchBarItemButton: 0x7ff35c04a020>) to be less than or equal to 30 but got a height of 32.000000. This error will be logged once per view in violation.\n",
      "2022-05-05 16:49:55.226 python[1109:8020] Warning: Expected min height of view: (<NSPopoverTouchBarItemButton: 0x7ff35c0482a0>) to be less than or equal to 30 but got a height of 32.000000. This error will be logged once per view in violation.\n"
     ]
    },
    {
     "name": "stdout",
     "output_type": "stream",
     "text": [
      "Episode reward: 290.660254714617\n"
     ]
    }
   ],
   "source": [
    "environment = 'BipedalWalker-v3'\n",
    "env = gym.make(environment)\n",
    "walker_TD3.visualise()"
   ]
  },
  {
   "cell_type": "markdown",
   "id": "868098be",
   "metadata": {},
   "source": [
    "### BipedalWalkerHardcore-v3"
   ]
  },
  {
   "cell_type": "markdown",
   "id": "b773b8e9",
   "metadata": {},
   "source": [
    "##### Testing the last trained agent on BipedalWalkerHardcore-v3"
   ]
  },
  {
   "cell_type": "code",
   "execution_count": 7,
   "id": "3adf98f4",
   "metadata": {},
   "outputs": [
    {
     "name": "stdout",
     "output_type": "stream",
     "text": [
      "Scores during testing\n",
      "Mean score: -93.24818283115924\n"
     ]
    },
    {
     "data": {
      "image/png": "[encoded data removed]",
      "text/plain": [
       "<Figure size 432x288 with 1 Axes>"
      ]
     },
     "metadata": {
      "needs_background": "light"
     },
     "output_type": "display_data"
    }
   ],
   "source": [
    "environment = 'BipedalWalkerHardcore-v3'\n",
    "env = gym.make(environment)\n",
    "\n",
    "scores = []\n",
    "\n",
    "for i in range(100):\n",
    "    state = env.reset()\n",
    "    terminal = False\n",
    "    ep_reward = 0\n",
    "\n",
    "    while not terminal:\n",
    "        tensor_state = torch.from_numpy(state).float()\n",
    "        action = walker_TD3.actor(tensor_state)\n",
    "        action = action.detach().numpy()\n",
    "        next_state, reward, terminal, _ = env.step(action)\n",
    "        ep_reward += reward \n",
    "        state = next_state\n",
    "\n",
    "    scores.append(ep_reward)\n",
    "\n",
    "print('Scores during testing')\n",
    "print('Mean score:', np.mean(scores))\n",
    "x = [i for i in range(1, len(scores)+1)]\n",
    "plt.plot(x, scores)\n",
    "plt.ylabel('Score')\n",
    "plt.xlabel('Episodes')\n",
    "plt.show()"
   ]
  },
  {
   "cell_type": "code",
   "execution_count": 8,
   "id": "bcd1a5b8",
   "metadata": {},
   "outputs": [
    {
     "name": "stderr",
     "output_type": "stream",
     "text": [
      "2022-05-05 16:50:47.540 python[1109:8020] Warning: Expected min height of view: (<NSPopoverTouchBarItemButton: 0x7ff358132f60>) to be less than or equal to 30 but got a height of 32.000000. This error will be logged once per view in violation.\n",
      "2022-05-05 16:50:47.543 python[1109:8020] Warning: Expected min height of view: (<NSButton: 0x7ff360f06f00>) to be less than or equal to 30 but got a height of 32.000000. This error will be logged once per view in violation.\n",
      "2022-05-05 16:50:47.553 python[1109:8020] Warning: Expected min height of view: (<NSPopoverTouchBarItemButton: 0x7ff36bb25c60>) to be less than or equal to 30 but got a height of 32.000000. This error will be logged once per view in violation.\n",
      "2022-05-05 16:50:47.559 python[1109:8020] Warning: Expected min height of view: (<NSPopoverTouchBarItemButton: 0x7ff360d09ba0>) to be less than or equal to 30 but got a height of 32.000000. This error will be logged once per view in violation.\n"
     ]
    },
    {
     "name": "stdout",
     "output_type": "stream",
     "text": [
      "Episode reward: -77.95429367213791\n"
     ]
    },
    {
     "name": "stderr",
     "output_type": "stream",
     "text": [
      "2022-05-05 16:50:58.587 python[1109:8020] Warning: Expected min height of view: (<NSPopoverTouchBarItemButton: 0x7ff35f9dca90>) to be less than or equal to 30 but got a height of 32.000000. This error will be logged once per view in violation.\n",
      "2022-05-05 16:50:58.589 python[1109:8020] Warning: Expected min height of view: (<NSButton: 0x7ff360d0c160>) to be less than or equal to 30 but got a height of 32.000000. This error will be logged once per view in violation.\n",
      "2022-05-05 16:50:58.595 python[1109:8020] Warning: Expected min height of view: (<NSPopoverTouchBarItemButton: 0x7ff360d0f5f0>) to be less than or equal to 30 but got a height of 32.000000. This error will be logged once per view in violation.\n",
      "2022-05-05 16:50:58.600 python[1109:8020] Warning: Expected min height of view: (<NSPopoverTouchBarItemButton: 0x7ff357729ad0>) to be less than or equal to 30 but got a height of 32.000000. This error will be logged once per view in violation.\n"
     ]
    },
    {
     "name": "stdout",
     "output_type": "stream",
     "text": [
      "Episode reward: -85.42166184642974\n"
     ]
    },
    {
     "name": "stderr",
     "output_type": "stream",
     "text": [
      "2022-05-05 16:51:00.967 python[1109:8020] Warning: Expected min height of view: (<NSPopoverTouchBarItemButton: 0x7ff360f0a4e0>) to be less than or equal to 30 but got a height of 32.000000. This error will be logged once per view in violation.\n",
      "2022-05-05 16:51:00.968 python[1109:8020] Warning: Expected min height of view: (<NSButton: 0x7ff360f101a0>) to be less than or equal to 30 but got a height of 32.000000. This error will be logged once per view in violation.\n",
      "2022-05-05 16:51:00.974 python[1109:8020] Warning: Expected min height of view: (<NSPopoverTouchBarItemButton: 0x7ff360f10930>) to be less than or equal to 30 but got a height of 32.000000. This error will be logged once per view in violation.\n",
      "2022-05-05 16:51:00.978 python[1109:8020] Warning: Expected min height of view: (<NSPopoverTouchBarItemButton: 0x7ff360d16950>) to be less than or equal to 30 but got a height of 32.000000. This error will be logged once per view in violation.\n"
     ]
    },
    {
     "name": "stdout",
     "output_type": "stream",
     "text": [
      "Episode reward: -55.696593533239025\n"
     ]
    },
    {
     "name": "stderr",
     "output_type": "stream",
     "text": [
      "2022-05-05 16:51:05.383 python[1109:8020] Warning: Expected min height of view: (<NSPopoverTouchBarItemButton: 0x7ff360e1f7e0>) to be less than or equal to 30 but got a height of 32.000000. This error will be logged once per view in violation.\n",
      "2022-05-05 16:51:05.384 python[1109:8020] Warning: Expected min height of view: (<NSButton: 0x7ff35f9147e0>) to be less than or equal to 30 but got a height of 32.000000. This error will be logged once per view in violation.\n",
      "2022-05-05 16:51:05.391 python[1109:8020] Warning: Expected min height of view: (<NSPopoverTouchBarItemButton: 0x7ff359deeaa0>) to be less than or equal to 30 but got a height of 32.000000. This error will be logged once per view in violation.\n",
      "2022-05-05 16:51:05.400 python[1109:8020] Warning: Expected min height of view: (<NSPopoverTouchBarItemButton: 0x7ff360d11c60>) to be less than or equal to 30 but got a height of 32.000000. This error will be logged once per view in violation.\n"
     ]
    },
    {
     "name": "stdout",
     "output_type": "stream",
     "text": [
      "Episode reward: -85.50256008219424\n"
     ]
    },
    {
     "name": "stderr",
     "output_type": "stream",
     "text": [
      "2022-05-05 16:51:07.462 python[1109:8020] Warning: Expected min height of view: (<NSPopoverTouchBarItemButton: 0x7ff359d6e0e0>) to be less than or equal to 30 but got a height of 32.000000. This error will be logged once per view in violation.\n",
      "2022-05-05 16:51:07.463 python[1109:8020] Warning: Expected min height of view: (<NSButton: 0x7ff359d657e0>) to be less than or equal to 30 but got a height of 32.000000. This error will be logged once per view in violation.\n",
      "2022-05-05 16:51:07.468 python[1109:8020] Warning: Expected min height of view: (<NSPopoverTouchBarItemButton: 0x7ff359d66a60>) to be less than or equal to 30 but got a height of 32.000000. This error will be logged once per view in violation.\n",
      "2022-05-05 16:51:07.472 python[1109:8020] Warning: Expected min height of view: (<NSPopoverTouchBarItemButton: 0x7ff359dba6a0>) to be less than or equal to 30 but got a height of 32.000000. This error will be logged once per view in violation.\n"
     ]
    },
    {
     "name": "stdout",
     "output_type": "stream",
     "text": [
      "Episode reward: -61.4331786130168\n"
     ]
    },
    {
     "name": "stderr",
     "output_type": "stream",
     "text": [
      "2022-05-05 16:51:11.412 python[1109:8020] Warning: Expected min height of view: (<NSPopoverTouchBarItemButton: 0x7ff360e1c1c0>) to be less than or equal to 30 but got a height of 32.000000. This error will be logged once per view in violation.\n",
      "2022-05-05 16:51:11.413 python[1109:8020] Warning: Expected min height of view: (<NSButton: 0x7ff360e26760>) to be less than or equal to 30 but got a height of 32.000000. This error will be logged once per view in violation.\n",
      "2022-05-05 16:51:11.418 python[1109:8020] Warning: Expected min height of view: (<NSPopoverTouchBarItemButton: 0x7ff360d21410>) to be less than or equal to 30 but got a height of 32.000000. This error will be logged once per view in violation.\n",
      "2022-05-05 16:51:11.422 python[1109:8020] Warning: Expected min height of view: (<NSPopoverTouchBarItemButton: 0x7ff360d22190>) to be less than or equal to 30 but got a height of 32.000000. This error will be logged once per view in violation.\n"
     ]
    },
    {
     "name": "stdout",
     "output_type": "stream",
     "text": [
      "Episode reward: -67.42225657970025\n"
     ]
    },
    {
     "name": "stderr",
     "output_type": "stream",
     "text": [
      "2022-05-05 16:51:14.626 python[1109:8020] Warning: Expected min height of view: (<NSPopoverTouchBarItemButton: 0x7ff35c00daa0>) to be less than or equal to 30 but got a height of 32.000000. This error will be logged once per view in violation.\n",
      "2022-05-05 16:51:14.627 python[1109:8020] Warning: Expected min height of view: (<NSButton: 0x7ff35b68fd20>) to be less than or equal to 30 but got a height of 32.000000. This error will be logged once per view in violation.\n",
      "2022-05-05 16:51:14.631 python[1109:8020] Warning: Expected min height of view: (<NSPopoverTouchBarItemButton: 0x7ff35b686de0>) to be less than or equal to 30 but got a height of 32.000000. This error will be logged once per view in violation.\n",
      "2022-05-05 16:51:14.634 python[1109:8020] Warning: Expected min height of view: (<NSPopoverTouchBarItemButton: 0x7ff35b683ce0>) to be less than or equal to 30 but got a height of 32.000000. This error will be logged once per view in violation.\n"
     ]
    },
    {
     "name": "stdout",
     "output_type": "stream",
     "text": [
      "Episode reward: -70.72093409796305\n"
     ]
    },
    {
     "name": "stderr",
     "output_type": "stream",
     "text": [
      "2022-05-05 16:51:17.744 python[1109:8020] Warning: Expected min height of view: (<NSPopoverTouchBarItemButton: 0x7ff360d1aa80>) to be less than or equal to 30 but got a height of 32.000000. This error will be logged once per view in violation.\n",
      "2022-05-05 16:51:17.745 python[1109:8020] Warning: Expected min height of view: (<NSButton: 0x7ff360d2beb0>) to be less than or equal to 30 but got a height of 32.000000. This error will be logged once per view in violation.\n",
      "2022-05-05 16:51:17.749 python[1109:8020] Warning: Expected min height of view: (<NSPopoverTouchBarItemButton: 0x7ff360d2c640>) to be less than or equal to 30 but got a height of 32.000000. This error will be logged once per view in violation.\n",
      "2022-05-05 16:51:17.752 python[1109:8020] Warning: Expected min height of view: (<NSPopoverTouchBarItemButton: 0x7ff360d2d3c0>) to be less than or equal to 30 but got a height of 32.000000. This error will be logged once per view in violation.\n"
     ]
    },
    {
     "name": "stdout",
     "output_type": "stream",
     "text": [
      "Episode reward: -87.7380984782707\n"
     ]
    },
    {
     "name": "stderr",
     "output_type": "stream",
     "text": [
      "2022-05-05 16:51:19.728 python[1109:8020] Warning: Expected min height of view: (<NSPopoverTouchBarItemButton: 0x7ff35f9cda40>) to be less than or equal to 30 but got a height of 32.000000. This error will be logged once per view in violation.\n",
      "2022-05-05 16:51:19.729 python[1109:8020] Warning: Expected min height of view: (<NSButton: 0x7ff355b0f500>) to be less than or equal to 30 but got a height of 32.000000. This error will be logged once per view in violation.\n",
      "2022-05-05 16:51:19.733 python[1109:8020] Warning: Expected min height of view: (<NSPopoverTouchBarItemButton: 0x7ff355b0f7b0>) to be less than or equal to 30 but got a height of 32.000000. This error will be logged once per view in violation.\n",
      "2022-05-05 16:51:19.736 python[1109:8020] Warning: Expected min height of view: (<NSPopoverTouchBarItemButton: 0x7ff355b09e60>) to be less than or equal to 30 but got a height of 32.000000. This error will be logged once per view in violation.\n"
     ]
    },
    {
     "name": "stdout",
     "output_type": "stream",
     "text": [
      "Episode reward: -173.42195493940287\n"
     ]
    },
    {
     "name": "stderr",
     "output_type": "stream",
     "text": [
      "2022-05-05 16:51:47.134 python[1109:8020] Warning: Expected min height of view: (<NSPopoverTouchBarItemButton: 0x7ff342f0b4f0>) to be less than or equal to 30 but got a height of 32.000000. This error will be logged once per view in violation.\n",
      "2022-05-05 16:51:47.134 python[1109:8020] Warning: Expected min height of view: (<NSButton: 0x7ff360d2f850>) to be less than or equal to 30 but got a height of 32.000000. This error will be logged once per view in violation.\n",
      "2022-05-05 16:51:47.137 python[1109:8020] Warning: Expected min height of view: (<NSPopoverTouchBarItemButton: 0x7ff360d2ffe0>) to be less than or equal to 30 but got a height of 32.000000. This error will be logged once per view in violation.\n",
      "2022-05-05 16:51:47.140 python[1109:8020] Warning: Expected min height of view: (<NSPopoverTouchBarItemButton: 0x7ff360f2c3c0>) to be less than or equal to 30 but got a height of 32.000000. This error will be logged once per view in violation.\n"
     ]
    },
    {
     "name": "stdout",
     "output_type": "stream",
     "text": [
      "Episode reward: -182.08500477828005\n"
     ]
    }
   ],
   "source": [
    "environment = 'BipedalWalkerHardcore-v3'\n",
    "env = gym.make(environment)\n",
    "walker_TD3.visualise()"
   ]
  },
  {
   "cell_type": "markdown",
   "id": "0190d438",
   "metadata": {},
   "source": [
    "#### Continue training the most recent TD3 BipedalWalker-v3 agent on BipedalWalkerHardcore-v3"
   ]
  },
  {
   "cell_type": "code",
   "execution_count": 9,
   "id": "d5a815a7",
   "metadata": {},
   "outputs": [
    {
     "name": "stdout",
     "output_type": "stream",
     "text": [
      "*************************************************************\n",
      "Agent 1\n",
      "Episode: 100 Score: -25.954 \t Mean score over last 100 episodes: -115.034\n",
      "Episode: 200 Score: -87.094 \t Mean score over last 100 episodes: -126.511\n",
      "Episode: 300 Score: -99.587 \t Mean score over last 100 episodes: -140.087\n",
      "Episode: 400 Score: -152.907 \t Mean score over last 100 episodes: -161.388\n",
      "Episode: 500 Score: -178.533 \t Mean score over last 100 episodes: -175.320\n",
      "Episode: 600 Score: -157.546 \t Mean score over last 100 episodes: -162.516\n",
      "Episode: 700 Score: -201.446 \t Mean score over last 100 episodes: -184.528\n",
      "Episode: 800 Score: -167.059 \t Mean score over last 100 episodes: -178.601\n",
      "Episode: 900 Score: -176.357 \t Mean score over last 100 episodes: -182.537\n",
      "Episode: 1000 Score: -201.526 \t Mean score over last 100 episodes: -179.289\n",
      "Episode: 1100 Score: -158.669 \t Mean score over last 100 episodes: -163.779\n",
      "Episode: 1200 Score: -164.865 \t Mean score over last 100 episodes: -166.858\n",
      "Episode: 1300 Score: -184.371 \t Mean score over last 100 episodes: -180.112\n",
      "Episode: 1400 Score: -191.128 \t Mean score over last 100 episodes: -179.733\n",
      "Episode: 1500 Score: -199.054 \t Mean score over last 100 episodes: -178.056\n",
      "Episode: 1600 Score: -176.606 \t Mean score over last 100 episodes: -178.558\n",
      "Episode: 1700 Score: -202.103 \t Mean score over last 100 episodes: -179.918\n",
      "Episode: 1800 Score: -178.236 \t Mean score over last 100 episodes: -183.104\n",
      "Episode: 1900 Score: -172.061 \t Mean score over last 100 episodes: -191.533\n",
      "Episode: 2000 Score: -188.258 \t Mean score over last 100 episodes: -189.860\n",
      "Episode: 2100 Score: -211.451 \t Mean score over last 100 episodes: -193.099\n",
      "Episode: 2200 Score: -206.211 \t Mean score over last 100 episodes: -200.239\n",
      "Episode: 2300 Score: -178.683 \t Mean score over last 100 episodes: -180.284\n",
      "Episode: 2400 Score: -181.982 \t Mean score over last 100 episodes: -195.586\n",
      "Episode: 2500 Score: -213.684 \t Mean score over last 100 episodes: -163.006\n",
      "Episode: 2600 Score: -202.673 \t Mean score over last 100 episodes: -187.305\n",
      "Episode: 2700 Score: -207.858 \t Mean score over last 100 episodes: -202.176\n",
      "Episode: 2800 Score: -213.134 \t Mean score over last 100 episodes: -199.472\n",
      "Episode: 2900 Score: -214.613 \t Mean score over last 100 episodes: -214.088\n",
      "Episode: 3000 Score: -184.720 \t Mean score over last 100 episodes: -199.310\n",
      "*********************************\n",
      "Agent 1 complete \t Mean score of agent: -177.729\n",
      "BipedalWalkerHardcore-v3 finished in 3000 episodes \t Mean score over last 100 episodes: -199.310\n",
      "*********************************\n",
      "Agent 1 scores during training\n"
     ]
    },
    {
     "data": {
      "image/png": "[encoded data removed]",
      "text/plain": [
       "<Figure size 432x288 with 1 Axes>"
      ]
     },
     "metadata": {
      "needs_background": "light"
     },
     "output_type": "display_data"
    },
    {
     "name": "stdout",
     "output_type": "stream",
     "text": [
      "Agent 1 mean score of last 100 episodes during training\n"
     ]
    },
    {
     "data": {
      "image/png": "[encoded data removed]",
      "text/plain": [
       "<Figure size 432x288 with 1 Axes>"
      ]
     },
     "metadata": {
      "needs_background": "light"
     },
     "output_type": "display_data"
    },
    {
     "name": "stdout",
     "output_type": "stream",
     "text": [
      "Scores during testing\n",
      "Mean score: -174.87711348909954\n"
     ]
    },
    {
     "data": {
      "image/png": "[encoded data removed]",
      "text/plain": [
       "<Figure size 432x288 with 1 Axes>"
      ]
     },
     "metadata": {
      "needs_background": "light"
     },
     "output_type": "display_data"
    }
   ],
   "source": [
    "# Create deep copy to not overwrite walker_TD3\n",
    "hardcore_adapt_TD3 = copy.deepcopy(walker_TD3)\n",
    "\n",
    "if environment == 'Pendulum-v1':\n",
    "    scaling = 2\n",
    "    solved = -100\n",
    "elif environment =='BipedalWalker-v3' or 'BipedalWalkerHardcore-v3':\n",
    "    scaling = 1\n",
    "    solved = 300 \n",
    "\n",
    "previous = 100\n",
    "print_every = 100\n",
    "\n",
    "print('*************************************************************')\n",
    "print('Agent 1')\n",
    "\n",
    "agent_scores = [0]\n",
    "agent_moving_means = [0]\n",
    "episode = 1\n",
    "\n",
    "while (agent_moving_means[-1] < solved or episode <= previous) and episode < 3001:\n",
    "\n",
    "    ep_reward = hardcore_adapt_TD3.train()\n",
    "\n",
    "    if episode == 1: \n",
    "        agent_scores[0] = ep_reward\n",
    "        agent_moving_means[0] = ep_reward\n",
    "    else:\n",
    "        agent_scores.append(ep_reward)\n",
    "        agent_moving_means.append(np.mean(agent_scores[-previous:])) \n",
    "\n",
    "    if episode % print_every == 0:\n",
    "        print('Episode: {} Score: {:.3f} \\t Mean score over last {} episodes: {:.3f}'.format(episode, ep_reward, previous, agent_moving_means[-1])) \n",
    "\n",
    "    episode += 1\n",
    "\n",
    "episode -= 1\n",
    "print('*********************************')\n",
    "print('Agent 1 complete \\t Mean score of agent: {:.3f}'.format(np.mean(agent_scores))) \n",
    "print('{} finished in {} episodes \\t Mean score over last {} episodes: {:.3f}'.format(environment, episode, previous, agent_moving_means[-1]))\n",
    "print('*********************************')\n",
    "\n",
    "x = [i for i in range(1, len(agent_scores) + 1)]\n",
    "print('Agent 1 scores during training')\n",
    "plt.plot(x, agent_scores)\n",
    "plt.ylabel('Score')\n",
    "plt.xlabel('Episodes')              \n",
    "plt.show()\n",
    "\n",
    "x = [i for i in range(1, len(agent_moving_means) + 1)]\n",
    "print('Agent 1 mean score of last {} episodes during training'.format(previous))\n",
    "plt.plot(x, agent_moving_means)\n",
    "plt.ylabel('Mean score of last {} episodes'.format(previous))       \n",
    "plt.xlabel('Episodes')\n",
    "plt.show()\n",
    "\n",
    "print('Scores during testing')\n",
    "hardcore_adapt_TD3.test()"
   ]
  },
  {
   "cell_type": "code",
   "execution_count": 10,
   "id": "1d67cffe",
   "metadata": {},
   "outputs": [
    {
     "name": "stderr",
     "output_type": "stream",
     "text": [
      "2022-05-06 07:13:21.683 python[1109:8020] Warning: Expected min height of view: (<NSPopoverTouchBarItemButton: 0x7ff339c7d360>) to be less than or equal to 30 but got a height of 32.000000. This error will be logged once per view in violation.\n",
      "2022-05-06 07:13:21.684 python[1109:8020] Warning: Expected min height of view: (<NSButton: 0x7ff3390ec760>) to be less than or equal to 30 but got a height of 32.000000. This error will be logged once per view in violation.\n",
      "2022-05-06 07:13:21.687 python[1109:8020] Warning: Expected min height of view: (<NSPopoverTouchBarItemButton: 0x7ff3390d9860>) to be less than or equal to 30 but got a height of 32.000000. This error will be logged once per view in violation.\n",
      "2022-05-06 07:13:21.690 python[1109:8020] Warning: Expected min height of view: (<NSPopoverTouchBarItemButton: 0x7ff339351ea0>) to be less than or equal to 30 but got a height of 32.000000. This error will be logged once per view in violation.\n"
     ]
    },
    {
     "name": "stdout",
     "output_type": "stream",
     "text": [
      "Episode reward: -171.27851557538852\n"
     ]
    },
    {
     "name": "stderr",
     "output_type": "stream",
     "text": [
      "2022-05-06 07:13:45.962 python[1109:8020] Warning: Expected min height of view: (<NSPopoverTouchBarItemButton: 0x7ff339f62b20>) to be less than or equal to 30 but got a height of 32.000000. This error will be logged once per view in violation.\n",
      "2022-05-06 07:13:45.963 python[1109:8020] Warning: Expected min height of view: (<NSButton: 0x7ff3393ef860>) to be less than or equal to 30 but got a height of 32.000000. This error will be logged once per view in violation.\n",
      "2022-05-06 07:13:45.967 python[1109:8020] Warning: Expected min height of view: (<NSPopoverTouchBarItemButton: 0x7ff33901c5d0>) to be less than or equal to 30 but got a height of 32.000000. This error will be logged once per view in violation.\n",
      "2022-05-06 07:13:45.970 python[1109:8020] Warning: Expected min height of view: (<NSPopoverTouchBarItemButton: 0x7ff3390fd9a0>) to be less than or equal to 30 but got a height of 32.000000. This error will be logged once per view in violation.\n"
     ]
    },
    {
     "name": "stdout",
     "output_type": "stream",
     "text": [
      "Episode reward: -183.41718249282653\n"
     ]
    },
    {
     "name": "stderr",
     "output_type": "stream",
     "text": [
      "2022-05-06 07:14:07.647 python[1109:8020] Warning: Expected min height of view: (<NSPopoverTouchBarItemButton: 0x7ff360f27ae0>) to be less than or equal to 30 but got a height of 32.000000. This error will be logged once per view in violation.\n",
      "2022-05-06 07:14:07.649 python[1109:8020] Warning: Expected min height of view: (<NSButton: 0x7ff3390c01a0>) to be less than or equal to 30 but got a height of 32.000000. This error will be logged once per view in violation.\n",
      "2022-05-06 07:14:07.651 python[1109:8020] Warning: Expected min height of view: (<NSPopoverTouchBarItemButton: 0x7ff339c816a0>) to be less than or equal to 30 but got a height of 32.000000. This error will be logged once per view in violation.\n",
      "2022-05-06 07:14:07.654 python[1109:8020] Warning: Expected min height of view: (<NSPopoverTouchBarItemButton: 0x7ff33915a9e0>) to be less than or equal to 30 but got a height of 32.000000. This error will be logged once per view in violation.\n"
     ]
    },
    {
     "name": "stdout",
     "output_type": "stream",
     "text": [
      "Episode reward: -170.16165324722886\n"
     ]
    },
    {
     "name": "stderr",
     "output_type": "stream",
     "text": [
      "2022-05-06 07:14:27.569 python[1109:8020] Warning: Expected min height of view: (<NSPopoverTouchBarItemButton: 0x7ff360f24d20>) to be less than or equal to 30 but got a height of 32.000000. This error will be logged once per view in violation.\n",
      "2022-05-06 07:14:27.569 python[1109:8020] Warning: Expected min height of view: (<NSButton: 0x7ff3397278e0>) to be less than or equal to 30 but got a height of 32.000000. This error will be logged once per view in violation.\n",
      "2022-05-06 07:14:27.572 python[1109:8020] Warning: Expected min height of view: (<NSPopoverTouchBarItemButton: 0x7ff363d214e0>) to be less than or equal to 30 but got a height of 32.000000. This error will be logged once per view in violation.\n",
      "2022-05-06 07:14:27.575 python[1109:8020] Warning: Expected min height of view: (<NSPopoverTouchBarItemButton: 0x7ff339f699c0>) to be less than or equal to 30 but got a height of 32.000000. This error will be logged once per view in violation.\n"
     ]
    },
    {
     "name": "stdout",
     "output_type": "stream",
     "text": [
      "Episode reward: -171.3538439348933\n"
     ]
    },
    {
     "name": "stderr",
     "output_type": "stream",
     "text": [
      "2022-05-06 07:14:49.705 python[1109:8020] Warning: Expected min height of view: (<NSPopoverTouchBarItemButton: 0x7ff3397384e0>) to be less than or equal to 30 but got a height of 32.000000. This error will be logged once per view in violation.\n",
      "2022-05-06 07:14:49.706 python[1109:8020] Warning: Expected min height of view: (<NSButton: 0x7ff339f10ba0>) to be less than or equal to 30 but got a height of 32.000000. This error will be logged once per view in violation.\n",
      "2022-05-06 07:14:49.709 python[1109:8020] Warning: Expected min height of view: (<NSPopoverTouchBarItemButton: 0x7ff339f0ccd0>) to be less than or equal to 30 but got a height of 32.000000. This error will be logged once per view in violation.\n",
      "2022-05-06 07:14:49.711 python[1109:8020] Warning: Expected min height of view: (<NSPopoverTouchBarItemButton: 0x7ff33a231be0>) to be less than or equal to 30 but got a height of 32.000000. This error will be logged once per view in violation.\n"
     ]
    },
    {
     "name": "stdout",
     "output_type": "stream",
     "text": [
      "Episode reward: -201.93234045945272\n"
     ]
    },
    {
     "name": "stderr",
     "output_type": "stream",
     "text": [
      "2022-05-06 07:15:09.979 python[1109:8020] Warning: Expected min height of view: (<NSPopoverTouchBarItemButton: 0x7ff339ab0420>) to be less than or equal to 30 but got a height of 32.000000. This error will be logged once per view in violation.\n",
      "2022-05-06 07:15:09.980 python[1109:8020] Warning: Expected min height of view: (<NSButton: 0x7ff339afebe0>) to be less than or equal to 30 but got a height of 32.000000. This error will be logged once per view in violation.\n",
      "2022-05-06 07:15:09.982 python[1109:8020] Warning: Expected min height of view: (<NSPopoverTouchBarItemButton: 0x7ff339a4a7a0>) to be less than or equal to 30 but got a height of 32.000000. This error will be logged once per view in violation.\n",
      "2022-05-06 07:15:09.984 python[1109:8020] Warning: Expected min height of view: (<NSPopoverTouchBarItemButton: 0x7ff339a45920>) to be less than or equal to 30 but got a height of 32.000000. This error will be logged once per view in violation.\n"
     ]
    },
    {
     "name": "stdout",
     "output_type": "stream",
     "text": [
      "Episode reward: -202.25014071281845\n"
     ]
    },
    {
     "name": "stderr",
     "output_type": "stream",
     "text": [
      "2022-05-06 07:15:27.232 python[1109:8020] Warning: Expected min height of view: (<NSPopoverTouchBarItemButton: 0x7ff339ad3fa0>) to be less than or equal to 30 but got a height of 32.000000. This error will be logged once per view in violation.\n",
      "2022-05-06 07:15:27.232 python[1109:8020] Warning: Expected min height of view: (<NSButton: 0x7ff360e28830>) to be less than or equal to 30 but got a height of 32.000000. This error will be logged once per view in violation.\n",
      "2022-05-06 07:15:27.234 python[1109:8020] Warning: Expected min height of view: (<NSPopoverTouchBarItemButton: 0x7ff360e2fc90>) to be less than or equal to 30 but got a height of 32.000000. This error will be logged once per view in violation.\n",
      "2022-05-06 07:15:27.238 python[1109:8020] Warning: Expected min height of view: (<NSPopoverTouchBarItemButton: 0x7ff360e30160>) to be less than or equal to 30 but got a height of 32.000000. This error will be logged once per view in violation.\n"
     ]
    },
    {
     "name": "stdout",
     "output_type": "stream",
     "text": [
      "Episode reward: -200.42952011093266\n"
     ]
    },
    {
     "name": "stderr",
     "output_type": "stream",
     "text": [
      "2022-05-06 07:15:44.482 python[1109:8020] Warning: Expected min height of view: (<NSPopoverTouchBarItemButton: 0x7ff339bd86a0>) to be less than or equal to 30 but got a height of 32.000000. This error will be logged once per view in violation.\n",
      "2022-05-06 07:15:44.482 python[1109:8020] Warning: Expected min height of view: (<NSButton: 0x7ff33a6cd460>) to be less than or equal to 30 but got a height of 32.000000. This error will be logged once per view in violation.\n",
      "2022-05-06 07:15:44.485 python[1109:8020] Warning: Expected min height of view: (<NSPopoverTouchBarItemButton: 0x7ff33a6fe1e0>) to be less than or equal to 30 but got a height of 32.000000. This error will be logged once per view in violation.\n",
      "2022-05-06 07:15:44.487 python[1109:8020] Warning: Expected min height of view: (<NSPopoverTouchBarItemButton: 0x7ff360d78620>) to be less than or equal to 30 but got a height of 32.000000. This error will be logged once per view in violation.\n"
     ]
    },
    {
     "name": "stdout",
     "output_type": "stream",
     "text": [
      "Episode reward: -183.14145414035278\n"
     ]
    },
    {
     "name": "stderr",
     "output_type": "stream",
     "text": [
      "2022-05-06 07:16:03.827 python[1109:8020] Warning: Expected min height of view: (<NSPopoverTouchBarItemButton: 0x7ff339c7a560>) to be less than or equal to 30 but got a height of 32.000000. This error will be logged once per view in violation.\n",
      "2022-05-06 07:16:03.831 python[1109:8020] Warning: Expected min height of view: (<NSButton: 0x7ff33a1bf460>) to be less than or equal to 30 but got a height of 32.000000. This error will be logged once per view in violation.\n",
      "2022-05-06 07:16:03.838 python[1109:8020] Warning: Expected min height of view: (<NSPopoverTouchBarItemButton: 0x7ff33a1fbc60>) to be less than or equal to 30 but got a height of 32.000000. This error will be logged once per view in violation.\n",
      "2022-05-06 07:16:03.845 python[1109:8020] Warning: Expected min height of view: (<NSPopoverTouchBarItemButton: 0x7ff3394db5e0>) to be less than or equal to 30 but got a height of 32.000000. This error will be logged once per view in violation.\n"
     ]
    },
    {
     "name": "stdout",
     "output_type": "stream",
     "text": [
      "Episode reward: -184.232114501269\n"
     ]
    },
    {
     "name": "stderr",
     "output_type": "stream",
     "text": [
      "2022-05-06 07:16:29.994 python[1109:8020] Warning: Expected min height of view: (<NSPopoverTouchBarItemButton: 0x7ff360e1afd0>) to be less than or equal to 30 but got a height of 32.000000. This error will be logged once per view in violation.\n",
      "2022-05-06 07:16:29.995 python[1109:8020] Warning: Expected min height of view: (<NSButton: 0x7ff359d179e0>) to be less than or equal to 30 but got a height of 32.000000. This error will be logged once per view in violation.\n",
      "2022-05-06 07:16:29.997 python[1109:8020] Warning: Expected min height of view: (<NSPopoverTouchBarItemButton: 0x7ff3391a31e0>) to be less than or equal to 30 but got a height of 32.000000. This error will be logged once per view in violation.\n",
      "2022-05-06 07:16:30.005 python[1109:8020] Warning: Expected min height of view: (<NSPopoverTouchBarItemButton: 0x7ff339772e60>) to be less than or equal to 30 but got a height of 32.000000. This error will be logged once per view in violation.\n"
     ]
    },
    {
     "name": "stdout",
     "output_type": "stream",
     "text": [
      "Episode reward: -202.77484273287382\n"
     ]
    }
   ],
   "source": [
    "environment = 'BipedalWalkerHardcore-v3'\n",
    "env = gym.make(environment)\n",
    "hardcore_adapt_TD3.visualise()"
   ]
  }
 ],
 "metadata": {
  "kernelspec": {
   "display_name": "Python 3 (ipykernel)",
   "language": "python",
   "name": "python3"
  },
  "language_info": {
   "codemirror_mode": {
    "name": "ipython",
    "version": 3
   },
   "file_extension": ".py",
   "mimetype": "text/x-python",
   "name": "python",
   "nbconvert_exporter": "python",
   "pygments_lexer": "ipython3",
   "version": "3.8.8"
  }
 },
 "nbformat": 4,
 "nbformat_minor": 5
}
